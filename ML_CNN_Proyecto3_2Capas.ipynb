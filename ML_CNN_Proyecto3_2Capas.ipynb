{
 "cells": [
  {
   "cell_type": "code",
   "execution_count": 1,
   "metadata": {
    "id": "T4R8vmSCXfNn"
   },
   "outputs": [],
   "source": [
    "import torch \n",
    "import torch.nn as nn\n",
    "import torchvision\n",
    "\n",
    "import torchvision.transforms as transforms\n",
    "import matplotlib.pyplot as plt\n",
    "import numpy as np \n",
    "import math\n",
    "import os\n",
    "from sklearn.model_selection import train_test_split"
   ]
  },
  {
   "cell_type": "code",
   "execution_count": 2,
   "metadata": {
    "colab": {
     "base_uri": "https://localhost:8080/"
    },
    "id": "qCaHPHrZzmBF",
    "outputId": "5615fd88-7219-4364-b355-a4c093c14bc2"
   },
   "outputs": [],
   "source": [
    "#from google.colab import drive\n",
    "#drive.mount('/content/drive')"
   ]
  },
  {
   "cell_type": "code",
   "execution_count": 3,
   "metadata": {
    "colab": {
     "base_uri": "https://localhost:8080/",
     "height": 398
    },
    "id": "W27oYXNvzdC1",
    "outputId": "3e921fe8-5474-4663-ae44-b245d1fc4a05"
   },
   "outputs": [
    {
     "name": "stdout",
     "output_type": "stream",
     "text": [
      "cuda:0\n",
      "14818\n",
      "4232\n",
      "2115\n"
     ]
    }
   ],
   "source": [
    "batch_size = 32 #64\n",
    "\n",
    "device = torch.device('cuda:0' if torch.cuda.is_available() else 'cpu')\n",
    "print(device)\n",
    "\n",
    "#path = '/content/drive/Shareddrives/MachineLearning/CovidData/'\n",
    "path = 'CovidData/'\n",
    "\n",
    "train_set = torchvision.datasets.ImageFolder(root=path+'train', transform = transforms.ToTensor())\n",
    "val_set = torchvision.datasets.ImageFolder(root=path+'valid', transform = transforms.ToTensor())\n",
    "test_set = torchvision.datasets.ImageFolder(root=path+'test', transform = transforms.ToTensor())\n",
    "\n",
    "train_loader = torch.utils.data.DataLoader(dataset=train_set, batch_size=batch_size, shuffle=True)\n",
    "val_loader = torch.utils.data.DataLoader(dataset=val_set, batch_size=batch_size, shuffle=True)\n",
    "test_loader = torch.utils.data.DataLoader(dataset=test_set, batch_size=batch_size, shuffle=True)\n",
    "\n",
    "print(len(train_set))\n",
    "print(len(val_set))\n",
    "print(len(test_set))"
   ]
  },
  {
   "cell_type": "code",
   "execution_count": 4,
   "metadata": {
    "id": "3Oiq67JL8MRQ"
   },
   "outputs": [],
   "source": [
    "#hypengrparameter \n",
    "num_classes = 4\n",
    "learning_rate =  0.001\n",
    "num_epochs = 20\n",
    "\n",
    "class CNN(nn.Module):\n",
    "    def __init__(self, num_classes=4):\n",
    "        super(CNN, self).__init__()\n",
    "        self.layer1 = nn.Sequential(\n",
    "            nn.Conv2d(in_channels=3, out_channels=16, kernel_size=3, stride=1, padding=2), #(299+2*2-3)/1+1 = 301\n",
    "            nn.ReLU(),\n",
    "            nn.MaxPool2d(kernel_size=2, stride=2)) #301/2=150.5 = 150\n",
    "        self.layer2 = nn.Sequential(\n",
    "            nn.Conv2d(16, 32, kernel_size=5, stride=1, padding=2), #(150+2*2-5)/1+1 = 150\n",
    "            nn.ReLU(),\n",
    "            nn.MaxPool2d(kernel_size=2, stride=2)) #150/2 = 75\n",
    "        self.fc = nn.Linear(75*75*32, num_classes) #Aplica una transformación lineal: y=xA.T + b\n",
    "        \n",
    "    def forward(self, x):\n",
    "        out = self.layer1(x)\n",
    "        out = self.layer2(out)\n",
    "        out = out.reshape(out.size(0), -1)\n",
    "        out = self.fc(out)\n",
    "        return out"
   ]
  },
  {
   "cell_type": "code",
   "execution_count": 5,
   "metadata": {
    "colab": {
     "base_uri": "https://localhost:8080/",
     "height": 356
    },
    "id": "NxgKAJ40hd8J",
    "outputId": "295cd5c4-c711-4578-d42d-1eca8f1dde6b"
   },
   "outputs": [
    {
     "name": "stdout",
     "output_type": "stream",
     "text": [
      "[torch.Size([4, 180000]), torch.Size([4])]\n"
     ]
    },
    {
     "data": {
      "text/plain": [
       "Parameter containing:\n",
       "tensor([[-0.0004,  0.0016,  0.0007,  ...,  0.0016, -0.0013, -0.0020],\n",
       "        [-0.0017, -0.0016,  0.0002,  ...,  0.0009,  0.0013, -0.0023],\n",
       "        [ 0.0002, -0.0003,  0.0004,  ...,  0.0021, -0.0005,  0.0005],\n",
       "        [ 0.0015,  0.0023,  0.0022,  ..., -0.0023,  0.0006, -0.0008]],\n",
       "       device='cuda:0', requires_grad=True)"
      ]
     },
     "execution_count": 5,
     "metadata": {},
     "output_type": "execute_result"
    }
   ],
   "source": [
    "model         = CNN(num_classes).to(device)\n",
    "loss_fn       = nn.CrossEntropyLoss()\n",
    "optimizer     = torch.optim.Adam(model.parameters(), lr = learning_rate)\n",
    "#loss_train    = train(model, optimizer, loss_fn, num_epochs)\n",
    "#test(model)\n",
    "\n",
    "print([ e.shape  for e in model.fc.parameters()])\n",
    "\n",
    "model.fc.weight\n"
   ]
  },
  {
   "cell_type": "code",
   "execution_count": null,
   "metadata": {
    "id": "E7DP31py2S_u"
   },
   "outputs": [],
   "source": []
  },
  {
   "cell_type": "code",
   "execution_count": 6,
   "metadata": {
    "id": "D3P8tMnHg4qj"
   },
   "outputs": [],
   "source": [
    "def train(model, optimizer, loos_fn, num_epochs):\n",
    "  loss_vals = []\n",
    "  running_loss =0.0\n",
    "  # train the model\n",
    "  total_step = len(train_loader)  # el train loader es el motor que se encarga de sacar las imagenes del train_set\n",
    "\n",
    "  list_loss= []\n",
    "  list_time = []\n",
    "  j=0\n",
    "\n",
    "  for epoch in range(num_epochs):\n",
    "    k=0\n",
    "    for i, (images, labels) in enumerate(train_loader):\n",
    "    #for i in range(50):\n",
    "\n",
    "      #images = train_loader[i][0].to(device)\n",
    "      #labels = train_loader[i][1].to(device)\n",
    "\n",
    "      images = images.to(device)\n",
    "      labels = labels.to(device)\n",
    "      \n",
    "      # forward \n",
    "      output = model(images)\n",
    "      loss   = loss_fn(output, labels)\n",
    "      # change the params\n",
    "      optimizer.zero_grad()\n",
    "      loss.backward()\n",
    "      optimizer.step()\n",
    "\n",
    "      list_loss.append(loss.item())\n",
    "      list_time.append(j)\n",
    "      j+=1\n",
    "              \n",
    "      if (i+1) % 100 == 0:\n",
    "              print ('Epoch [{}/{}], Step [{}/{}], Loss: {:.4f}' \n",
    "                    .format(epoch+1, num_epochs, i+1, total_step, loss.item()))\n",
    "      k+=1\n",
    "      #if (k == 1000):\n",
    "      #  break \n",
    "  print('Finished Training Trainset')\n",
    "  return list_loss\n"
   ]
  },
  {
   "cell_type": "code",
   "execution_count": 7,
   "metadata": {
    "colab": {
     "background_save": true
    },
    "id": "SZdOzO0NuR4f",
    "outputId": "80863ba7-ee3d-4872-a6ab-94f1a5b59550"
   },
   "outputs": [
    {
     "name": "stdout",
     "output_type": "stream",
     "text": [
      "Epoch [1/10], Step [100/464], Loss: 0.9324\n",
      "Epoch [1/10], Step [200/464], Loss: 1.0545\n",
      "Epoch [1/10], Step [300/464], Loss: 0.6572\n",
      "Epoch [1/10], Step [400/464], Loss: 0.3842\n",
      "Epoch [2/10], Step [100/464], Loss: 0.3471\n",
      "Epoch [2/10], Step [200/464], Loss: 0.4654\n",
      "Epoch [2/10], Step [300/464], Loss: 0.4833\n",
      "Epoch [2/10], Step [400/464], Loss: 0.5668\n",
      "Epoch [3/10], Step [100/464], Loss: 0.3822\n",
      "Epoch [3/10], Step [200/464], Loss: 0.2940\n",
      "Epoch [3/10], Step [300/464], Loss: 0.2654\n",
      "Epoch [3/10], Step [400/464], Loss: 0.5498\n",
      "Epoch [4/10], Step [100/464], Loss: 0.3085\n",
      "Epoch [4/10], Step [200/464], Loss: 0.2205\n",
      "Epoch [4/10], Step [300/464], Loss: 0.2443\n",
      "Epoch [4/10], Step [400/464], Loss: 0.2121\n",
      "Epoch [5/10], Step [100/464], Loss: 0.2526\n",
      "Epoch [5/10], Step [200/464], Loss: 0.2257\n",
      "Epoch [5/10], Step [300/464], Loss: 0.1431\n",
      "Epoch [5/10], Step [400/464], Loss: 0.2538\n",
      "Epoch [6/10], Step [100/464], Loss: 0.2447\n",
      "Epoch [6/10], Step [200/464], Loss: 0.1887\n",
      "Epoch [6/10], Step [300/464], Loss: 0.1096\n",
      "Epoch [6/10], Step [400/464], Loss: 0.3938\n",
      "Epoch [7/10], Step [100/464], Loss: 0.1041\n",
      "Epoch [7/10], Step [200/464], Loss: 0.0842\n",
      "Epoch [7/10], Step [300/464], Loss: 0.0821\n",
      "Epoch [7/10], Step [400/464], Loss: 0.0373\n",
      "Epoch [8/10], Step [100/464], Loss: 0.0758\n",
      "Epoch [8/10], Step [200/464], Loss: 0.0531\n",
      "Epoch [8/10], Step [300/464], Loss: 0.0415\n",
      "Epoch [8/10], Step [400/464], Loss: 0.0735\n",
      "Epoch [9/10], Step [100/464], Loss: 0.0412\n",
      "Epoch [9/10], Step [200/464], Loss: 0.0197\n",
      "Epoch [9/10], Step [300/464], Loss: 0.0395\n",
      "Epoch [9/10], Step [400/464], Loss: 0.0579\n",
      "Epoch [10/10], Step [100/464], Loss: 0.0456\n",
      "Epoch [10/10], Step [200/464], Loss: 0.0296\n",
      "Epoch [10/10], Step [300/464], Loss: 0.0244\n",
      "Epoch [10/10], Step [400/464], Loss: 0.0243\n",
      "Finished Training Trainset\n"
     ]
    }
   ],
   "source": [
    "train_loss = train(model,optimizer,loss_fn,10)"
   ]
  },
  {
   "cell_type": "code",
   "execution_count": 8,
   "metadata": {
    "colab": {
     "base_uri": "https://localhost:8080/",
     "height": 282
    },
    "id": "UIgfkY1iLk8C",
    "outputId": "b532a987-6dcd-44d8-f29c-ecd4d2e06008"
   },
   "outputs": [
    {
     "data": {
      "text/plain": [
       "Text(0.5, 1.0, 'Training Error: 2 Capas')"
      ]
     },
     "execution_count": 8,
     "metadata": {},
     "output_type": "execute_result"
    },
    {
     "data": {
      "image/png": "[encoded data removed]",
      "text/plain": [
       "<Figure size 432x288 with 1 Axes>"
      ]
     },
     "metadata": {
      "needs_background": "light"
     },
     "output_type": "display_data"
    }
   ],
   "source": [
    "plt.plot(train_loss)\n",
    "plt.title(\"Training Error: 2 Capas\")"
   ]
  },
  {
   "cell_type": "code",
   "execution_count": 9,
   "metadata": {},
   "outputs": [
    {
     "name": "stdout",
     "output_type": "stream",
     "text": [
      "Validation Accuracy of the model: 83.88468809073724 %\n"
     ]
    }
   ],
   "source": [
    "#Precision con el set de validación (20%).\n",
    "with torch.no_grad():\n",
    "      correct = 0\n",
    "      total = 0\n",
    "      k=0\n",
    "      for images, labels in val_loader:\n",
    "          images, labels = images.to(device), labels.to(device)\n",
    "          outputs = model(images)\n",
    "          _, predicted = torch.max(outputs.data, 1)\n",
    "          total += labels.size(0)\n",
    "          correct += (predicted == labels).sum().item()\n",
    "          #k+=1\n",
    "          #if (k == 100):\n",
    "          #  break\n",
    "      print('Validation Accuracy of the model: {} %'.format(100 * correct / total))"
   ]
  },
  {
   "cell_type": "code",
   "execution_count": 10,
   "metadata": {},
   "outputs": [
    {
     "name": "stdout",
     "output_type": "stream",
     "text": [
      "Test Accuracy of the model: 83.5933806146572 %\n"
     ]
    }
   ],
   "source": [
    "#Precision con el set de test (10%).\n",
    "with torch.no_grad():\n",
    "      correct = 0\n",
    "      total = 0\n",
    "      k=0\n",
    "      for images, labels in test_loader:\n",
    "          images, labels = images.to(device), labels.to(device)\n",
    "          outputs = model(images)\n",
    "          _, predicted = torch.max(outputs.data, 1)\n",
    "          total += labels.size(0)\n",
    "          correct += (predicted == labels).sum().item()\n",
    "          #k+=1\n",
    "          #if (k == 100):\n",
    "          #  break\n",
    "      print('Test Accuracy of the model: {} %'.format(100 * correct / total))"
   ]
  }
 ],
 "metadata": {
  "accelerator": "GPU",
  "colab": {
   "collapsed_sections": [],
   "name": "ML_CNN_Proyecto3____.ipynb",
   "provenance": []
  },
  "kernelspec": {
   "display_name": "Python 3",
   "language": "python",
   "name": "python3"
  },
  "language_info": {
   "codemirror_mode": {
    "name": "ipython",
    "version": 3
   },
   "file_extension": ".py",
   "mimetype": "text/x-python",
   "name": "python",
   "nbconvert_exporter": "python",
   "pygments_lexer": "ipython3",
   "version": "3.8.8"
  }
 },
 "nbformat": 4,
 "nbformat_minor": 1
}
