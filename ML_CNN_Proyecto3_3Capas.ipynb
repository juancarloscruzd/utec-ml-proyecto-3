{
 "cells": [
  {
   "cell_type": "code",
   "execution_count": 1,
   "metadata": {},
   "outputs": [],
   "source": [
    "#!pip3 install torch==1.10.0+cu102 torchvision==0.11.1+cu102 torchaudio===0.10.0+cu102 -f https://download.pytorch.org/whl/cu102/torch_stable.html"
   ]
  },
  {
   "cell_type": "code",
   "execution_count": 2,
   "metadata": {
    "executionInfo": {
     "elapsed": 1390,
     "status": "ok",
     "timestamp": 1638566098173,
     "user": {
      "displayName": "Victor Hugo Herrera Asmat",
      "photoUrl": "https://lh3.googleusercontent.com/a-/AOh14GiSAgvBxmzALh4bRGbZadatcuF7NEDfxEYqPSBy=s64",
      "userId": "11905953675983668835"
     },
     "user_tz": 300
    },
    "id": "T4R8vmSCXfNn"
   },
   "outputs": [],
   "source": [
    "import torch \n",
    "import torch.nn as nn\n",
    "import torchvision\n",
    "\n",
    "import torchvision.transforms as transforms\n",
    "import matplotlib.pyplot as plt\n",
    "import numpy as np \n",
    "import math\n",
    "import os\n",
    "from sklearn.model_selection import train_test_split"
   ]
  },
  {
   "cell_type": "code",
   "execution_count": 3,
   "metadata": {
    "colab": {
     "base_uri": "https://localhost:8080/"
    },
    "executionInfo": {
     "elapsed": 387,
     "status": "ok",
     "timestamp": 1638566104408,
     "user": {
      "displayName": "Victor Hugo Herrera Asmat",
      "photoUrl": "https://lh3.googleusercontent.com/a-/AOh14GiSAgvBxmzALh4bRGbZadatcuF7NEDfxEYqPSBy=s64",
      "userId": "11905953675983668835"
     },
     "user_tz": 300
    },
    "id": "qCaHPHrZzmBF",
    "outputId": "538f7649-8f29-47e2-a6cf-9ee0758ebfe8"
   },
   "outputs": [],
   "source": [
    "#from google.colab import drive\n",
    "#drive.mount('/content/drive')"
   ]
  },
  {
   "cell_type": "code",
   "execution_count": 4,
   "metadata": {
    "colab": {
     "base_uri": "https://localhost:8080/"
    },
    "executionInfo": {
     "elapsed": 20691,
     "status": "ok",
     "timestamp": 1638566127737,
     "user": {
      "displayName": "Victor Hugo Herrera Asmat",
      "photoUrl": "https://lh3.googleusercontent.com/a-/AOh14GiSAgvBxmzALh4bRGbZadatcuF7NEDfxEYqPSBy=s64",
      "userId": "11905953675983668835"
     },
     "user_tz": 300
    },
    "id": "W27oYXNvzdC1",
    "outputId": "b689f6f1-d5e4-46af-fb3e-23d88ca97cf3"
   },
   "outputs": [
    {
     "name": "stdout",
     "output_type": "stream",
     "text": [
      "cuda:0\n",
      "14818\n",
      "4232\n",
      "2115\n"
     ]
    }
   ],
   "source": [
    "batch_size = 32 #64\n",
    "\n",
    "device = torch.device('cuda:0' if torch.cuda.is_available() else 'cpu')\n",
    "print(device)\n",
    "\n",
    "#path = '/content/drive/Shareddrives/MachineLearning/CovidData/'\n",
    "path = 'CovidData/'\n",
    "\n",
    "train_set = torchvision.datasets.ImageFolder(root=path+'train', transform = transforms.ToTensor())\n",
    "val_set = torchvision.datasets.ImageFolder(root=path+'valid', transform = transforms.ToTensor())\n",
    "test_set = torchvision.datasets.ImageFolder(root=path+'test', transform = transforms.ToTensor())\n",
    "\n",
    "train_loader = torch.utils.data.DataLoader(dataset=train_set, batch_size=batch_size, shuffle=True)\n",
    "val_loader = torch.utils.data.DataLoader(dataset=val_set, batch_size=batch_size, shuffle=True)\n",
    "test_loader = torch.utils.data.DataLoader(dataset=test_set, batch_size=batch_size, shuffle=True)\n",
    "\n",
    "print(len(train_set))\n",
    "print(len(val_set))\n",
    "print(len(test_set))"
   ]
  },
  {
   "cell_type": "code",
   "execution_count": 5,
   "metadata": {
    "executionInfo": {
     "elapsed": 259,
     "status": "ok",
     "timestamp": 1638566224252,
     "user": {
      "displayName": "Victor Hugo Herrera Asmat",
      "photoUrl": "https://lh3.googleusercontent.com/a-/AOh14GiSAgvBxmzALh4bRGbZadatcuF7NEDfxEYqPSBy=s64",
      "userId": "11905953675983668835"
     },
     "user_tz": 300
    },
    "id": "PgF_3RNgTOJP"
   },
   "outputs": [],
   "source": [
    "#hypengrparameter \n",
    "num_classes = 4\n",
    "learning_rate =  0.001\n",
    "num_epochs = 20\n",
    "\n",
    "class CNN3(nn.Module):\n",
    "    def __init__(self, num_classes=4):\n",
    "        super(CNN3, self).__init__()\n",
    "        self.layer1 = nn.Sequential(\n",
    "            nn.Conv2d(in_channels=3, out_channels=16, kernel_size=3, stride=1, padding=2), #(299+2*2-3)/1+1 = 301\n",
    "            nn.ReLU(),\n",
    "            nn.MaxPool2d(kernel_size=2, stride=2)) #301/2=150.5 = 150\n",
    "        self.layer2 = nn.Sequential(\n",
    "            nn.Conv2d(16, 32, kernel_size=5, stride=1, padding=2), #(150+2*2-5)/1+1 = 150\n",
    "            nn.ReLU(),\n",
    "            nn.MaxPool2d(kernel_size=2, stride=2)) #150/2 = 75\n",
    "        self.layer3 = nn.Sequential(\n",
    "            nn.Conv2d(32, 64, kernel_size=5, stride=1, padding=2), #(75+2*2-5)/1+1 = 75          \n",
    "            nn.ReLU(),\n",
    "            nn.MaxPool2d(kernel_size=2, stride=2)) #75/2 = 37\n",
    "        self.fc = nn.Linear(37*37*64, num_classes) #Aplica una transformación lineal: y=xA.T + b\n",
    "        \n",
    "    def forward(self, x):\n",
    "        out = self.layer1(x)\n",
    "        out = self.layer2(out)\n",
    "        out = self.layer3(out)\n",
    "        out = out.reshape(out.size(0), -1)\n",
    "        out = self.fc(out)\n",
    "        return out"
   ]
  },
  {
   "cell_type": "code",
   "execution_count": 6,
   "metadata": {
    "colab": {
     "base_uri": "https://localhost:8080/"
    },
    "executionInfo": {
     "elapsed": 8375,
     "status": "ok",
     "timestamp": 1638566239621,
     "user": {
      "displayName": "Victor Hugo Herrera Asmat",
      "photoUrl": "https://lh3.googleusercontent.com/a-/AOh14GiSAgvBxmzALh4bRGbZadatcuF7NEDfxEYqPSBy=s64",
      "userId": "11905953675983668835"
     },
     "user_tz": 300
    },
    "id": "NxgKAJ40hd8J",
    "outputId": "f5314617-c394-456c-a00d-1bb80a35a324"
   },
   "outputs": [
    {
     "name": "stdout",
     "output_type": "stream",
     "text": [
      "[torch.Size([4, 87616]), torch.Size([4])]\n"
     ]
    },
    {
     "data": {
      "text/plain": [
       "Parameter containing:\n",
       "tensor([[-2.9910e-03,  2.3227e-03,  5.9644e-04,  ...,  3.0668e-03,\n",
       "         -2.2992e-03,  2.1365e-03],\n",
       "        [-4.0791e-04,  2.5237e-03, -3.3331e-03,  ...,  3.1154e-03,\n",
       "          1.2378e-03,  1.4848e-03],\n",
       "        [-2.1552e-03,  1.6714e-03, -2.9163e-03,  ..., -2.9568e-03,\n",
       "          7.7078e-04, -2.3048e-03],\n",
       "        [ 1.2789e-03, -2.0791e-03,  5.9892e-05,  ...,  2.0532e-03,\n",
       "          1.3585e-03, -8.7520e-05]], device='cuda:0', requires_grad=True)"
      ]
     },
     "execution_count": 6,
     "metadata": {},
     "output_type": "execute_result"
    }
   ],
   "source": [
    "model         = CNN3(num_classes).to(device)\n",
    "loss_fn       = nn.CrossEntropyLoss()\n",
    "optimizer     = torch.optim.Adam(model.parameters(), lr = learning_rate)\n",
    "\n",
    "print([ e.shape  for e in model.fc.parameters()])\n",
    "\n",
    "model.fc.weight\n"
   ]
  },
  {
   "cell_type": "code",
   "execution_count": null,
   "metadata": {
    "id": "E7DP31py2S_u"
   },
   "outputs": [],
   "source": []
  },
  {
   "cell_type": "code",
   "execution_count": 7,
   "metadata": {
    "executionInfo": {
     "elapsed": 398,
     "status": "ok",
     "timestamp": 1638566244914,
     "user": {
      "displayName": "Victor Hugo Herrera Asmat",
      "photoUrl": "https://lh3.googleusercontent.com/a-/AOh14GiSAgvBxmzALh4bRGbZadatcuF7NEDfxEYqPSBy=s64",
      "userId": "11905953675983668835"
     },
     "user_tz": 300
    },
    "id": "D3P8tMnHg4qj"
   },
   "outputs": [],
   "source": [
    "def train(model, optimizer, loos_fn, num_epochs):\n",
    "  loss_vals = []\n",
    "  running_loss =0.0\n",
    "  # train the model\n",
    "  total_step = len(train_loader)  # el train loader es el motor que se encarga de sacar las imagenes del train_set\n",
    "\n",
    "  list_loss= []\n",
    "  list_time = []\n",
    "  j=0\n",
    "\n",
    "  for epoch in range(num_epochs):\n",
    "    k=0\n",
    "    for i, (images, labels) in enumerate(train_loader):\n",
    "    #for i in range(50):\n",
    "\n",
    "      #images = train_loader[i][0].to(device)\n",
    "      #labels = train_loader[i][1].to(device)\n",
    "\n",
    "      images = images.to(device)\n",
    "      labels = labels.to(device)\n",
    "      \n",
    "      # forward \n",
    "      output = model(images)\n",
    "      loss   = loss_fn(output, labels)\n",
    "      # change the params\n",
    "      optimizer.zero_grad()\n",
    "      loss.backward()\n",
    "      optimizer.step()\n",
    "\n",
    "      list_loss.append(loss.item())\n",
    "      list_time.append(j)\n",
    "      j+=1\n",
    "              \n",
    "      if (i+1) % 100 == 0:\n",
    "              print ('Epoch [{}/{}], Step [{}/{}], Loss: {:.4f}' \n",
    "                    .format(epoch+1, num_epochs, i+1, total_step, loss.item()))\n",
    "      k+=1\n",
    "      #if (k == 1000):\n",
    "      #  break \n",
    "  print('Finished Training Trainset')\n",
    "  return list_loss\n"
   ]
  },
  {
   "cell_type": "code",
   "execution_count": 8,
   "metadata": {
    "colab": {
     "base_uri": "https://localhost:8080/"
    },
    "id": "SZdOzO0NuR4f",
    "outputId": "8b8a907c-e070-4698-90e2-4b075702e096"
   },
   "outputs": [
    {
     "name": "stdout",
     "output_type": "stream",
     "text": [
      "Epoch [1/10], Step [100/464], Loss: 1.1448\n",
      "Epoch [1/10], Step [200/464], Loss: 0.7959\n",
      "Epoch [1/10], Step [300/464], Loss: 0.5406\n",
      "Epoch [1/10], Step [400/464], Loss: 0.5931\n",
      "Epoch [2/10], Step [100/464], Loss: 0.3778\n",
      "Epoch [2/10], Step [200/464], Loss: 0.3828\n",
      "Epoch [2/10], Step [300/464], Loss: 0.3409\n",
      "Epoch [2/10], Step [400/464], Loss: 0.2140\n",
      "Epoch [3/10], Step [100/464], Loss: 0.6345\n",
      "Epoch [3/10], Step [200/464], Loss: 0.4968\n",
      "Epoch [3/10], Step [300/464], Loss: 0.3280\n",
      "Epoch [3/10], Step [400/464], Loss: 0.3496\n",
      "Epoch [4/10], Step [100/464], Loss: 0.1476\n",
      "Epoch [4/10], Step [200/464], Loss: 0.3941\n",
      "Epoch [4/10], Step [300/464], Loss: 0.2703\n",
      "Epoch [4/10], Step [400/464], Loss: 0.1562\n",
      "Epoch [5/10], Step [100/464], Loss: 0.1579\n",
      "Epoch [5/10], Step [200/464], Loss: 0.2729\n",
      "Epoch [5/10], Step [300/464], Loss: 0.0921\n",
      "Epoch [5/10], Step [400/464], Loss: 0.0720\n",
      "Epoch [6/10], Step [100/464], Loss: 0.0700\n",
      "Epoch [6/10], Step [200/464], Loss: 0.1508\n",
      "Epoch [6/10], Step [300/464], Loss: 0.2207\n",
      "Epoch [6/10], Step [400/464], Loss: 0.1319\n",
      "Epoch [7/10], Step [100/464], Loss: 0.0553\n",
      "Epoch [7/10], Step [200/464], Loss: 0.3899\n",
      "Epoch [7/10], Step [300/464], Loss: 0.1034\n",
      "Epoch [7/10], Step [400/464], Loss: 0.1224\n",
      "Epoch [8/10], Step [100/464], Loss: 0.1374\n",
      "Epoch [8/10], Step [200/464], Loss: 0.0392\n",
      "Epoch [8/10], Step [300/464], Loss: 0.0620\n",
      "Epoch [8/10], Step [400/464], Loss: 0.0413\n",
      "Epoch [9/10], Step [100/464], Loss: 0.0692\n",
      "Epoch [9/10], Step [200/464], Loss: 0.1491\n",
      "Epoch [9/10], Step [300/464], Loss: 0.0967\n",
      "Epoch [9/10], Step [400/464], Loss: 0.0395\n",
      "Epoch [10/10], Step [100/464], Loss: 0.1495\n",
      "Epoch [10/10], Step [200/464], Loss: 0.0364\n",
      "Epoch [10/10], Step [300/464], Loss: 0.1316\n",
      "Epoch [10/10], Step [400/464], Loss: 0.0275\n",
      "Finished Training Trainset\n"
     ]
    }
   ],
   "source": [
    "train_loss = train(model,optimizer,loss_fn,10)"
   ]
  },
  {
   "cell_type": "code",
   "execution_count": 9,
   "metadata": {
    "colab": {
     "base_uri": "https://localhost:8080/",
     "height": 282
    },
    "id": "UIgfkY1iLk8C",
    "outputId": "189ca011-0a9a-4b28-a1af-8b26a4f7a374"
   },
   "outputs": [
    {
     "data": {
      "text/plain": [
       "Text(0.5, 1.0, 'Training Error: 3 Capas')"
      ]
     },
     "execution_count": 9,
     "metadata": {},
     "output_type": "execute_result"
    },
    {
     "data": {
      "image/png": "[encoded data removed]",
      "text/plain": [
       "<Figure size 432x288 with 1 Axes>"
      ]
     },
     "metadata": {
      "needs_background": "light"
     },
     "output_type": "display_data"
    }
   ],
   "source": [
    "plt.plot(train_loss)\n",
    "plt.title(\"Training Error: 3 Capas\")"
   ]
  },
  {
   "cell_type": "code",
   "execution_count": 10,
   "metadata": {
    "id": "mpsjztIY2DSj"
   },
   "outputs": [
    {
     "name": "stdout",
     "output_type": "stream",
     "text": [
      "Validation Accuracy of the model: 87.02741020793951 %\n"
     ]
    }
   ],
   "source": [
    "#Precision con el set de validación (20%).\n",
    "with torch.no_grad():\n",
    "      correct = 0\n",
    "      total = 0\n",
    "      k=0\n",
    "      for images, labels in val_loader:\n",
    "          images, labels = images.to(device), labels.to(device)\n",
    "          outputs = model(images)\n",
    "          _, predicted = torch.max(outputs.data, 1)\n",
    "          total += labels.size(0)\n",
    "          correct += (predicted == labels).sum().item()\n",
    "          #k+=1\n",
    "          #if (k == 100):\n",
    "          #  break\n",
    "      print('Validation Accuracy of the model: {} %'.format(100 * correct / total))"
   ]
  },
  {
   "cell_type": "code",
   "execution_count": 11,
   "metadata": {},
   "outputs": [
    {
     "name": "stdout",
     "output_type": "stream",
     "text": [
      "Test Accuracy of the model: 86.99763593380615 %\n"
     ]
    }
   ],
   "source": [
    "#Precision con el set de test (10%).\n",
    "with torch.no_grad():\n",
    "      correct = 0\n",
    "      total = 0 \n",
    "      k=0\n",
    "      for images, labels in test_loader:\n",
    "          images, labels = images.to(device), labels.to(device)\n",
    "          outputs = model(images)\n",
    "          _, predicted = torch.max(outputs.data, 1)\n",
    "          total += labels.size(0)\n",
    "          correct += (predicted == labels).sum().item()\n",
    "          #k+=1\n",
    "          #if (k == 100):\n",
    "          #  break\n",
    "      print('Test Accuracy of the model: {} %'.format(100 * correct / total))"
   ]
  },
  {
   "cell_type": "code",
   "execution_count": null,
   "metadata": {},
   "outputs": [],
   "source": []
  }
 ],
 "metadata": {
  "accelerator": "GPU",
  "colab": {
   "collapsed_sections": [],
   "name": "ML_CNN_Proyecto3.ipynb",
   "provenance": []
  },
  "kernelspec": {
   "display_name": "Python 3 (ipykernel)",
   "language": "python",
   "name": "python3"
  },
  "language_info": {
   "codemirror_mode": {
    "name": "ipython",
    "version": 3
   },
   "file_extension": ".py",
   "mimetype": "text/x-python",
   "name": "python",
   "nbconvert_exporter": "python",
   "pygments_lexer": "ipython3",
   "version": "3.8.8"
  }
 },
 "nbformat": 4,
 "nbformat_minor": 1
}
