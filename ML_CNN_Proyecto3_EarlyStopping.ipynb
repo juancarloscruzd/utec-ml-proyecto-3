{
 "cells": [
  {
   "cell_type": "code",
   "execution_count": 11,
   "metadata": {
    "collapsed": true,
    "id": "EnOy-forKQjN"
   },
   "outputs": [
    {
     "name": "stdout",
     "output_type": "stream",
     "text": [
      "Looking in links: https://download.pytorch.org/whl/cu102/torch_stable.html\n",
      "Collecting torch==1.10.0+cu102"
     ]
    },
    {
     "name": "stderr",
     "output_type": "stream",
     "text": [
      "ERROR: Exception:\n",
      "Traceback (most recent call last):\n",
      "  File \"C:\\Users\\coyol\\Anaconda3\\lib\\site-packages\\pip\\_vendor\\resolvelib\\resolvers.py\", line 171, in _merge_into_criterion\n",
      "    crit = self.state.criteria[name]\n",
      "KeyError: 'torch'\n",
      "\n",
      "During handling of the above exception, another exception occurred:\n",
      "\n",
      "Traceback (most recent call last):\n",
      "  File \"C:\\Users\\coyol\\Anaconda3\\lib\\site-packages\\pip\\_vendor\\urllib3\\response.py\", line 438, in _error_catcher\n",
      "    yield\n",
      "  File \"C:\\Users\\coyol\\Anaconda3\\lib\\site-packages\\pip\\_vendor\\urllib3\\response.py\", line 519, in read\n",
      "    data = self._fp.read(amt) if not fp_closed else b\"\"\n",
      "  File \"C:\\Users\\coyol\\Anaconda3\\lib\\site-packages\\pip\\_vendor\\cachecontrol\\filewrapper.py\", line 62, in read\n",
      "    data = self.__fp.read(amt)\n",
      "  File \"C:\\Users\\coyol\\Anaconda3\\lib\\http\\client.py\", line 458, in read\n",
      "    n = self.readinto(b)\n",
      "  File \"C:\\Users\\coyol\\Anaconda3\\lib\\http\\client.py\", line 502, in readinto\n",
      "    n = self.fp.readinto(b)\n",
      "  File \"C:\\Users\\coyol\\Anaconda3\\lib\\socket.py\", line 669, in readinto\n",
      "    return self._sock.recv_into(b)\n",
      "  File \"C:\\Users\\coyol\\Anaconda3\\lib\\ssl.py\", line 1241, in recv_into\n",
      "    return self.read(nbytes, buffer)\n",
      "  File \"C:\\Users\\coyol\\Anaconda3\\lib\\ssl.py\", line 1099, in read\n",
      "    return self._sslobj.read(len, buffer)\n",
      "ConnectionResetError: [WinError 10054] An existing connection was forcibly closed by the remote host\n",
      "\n",
      "During handling of the above exception, another exception occurred:\n",
      "\n",
      "Traceback (most recent call last):\n",
      "  File \"C:\\Users\\coyol\\Anaconda3\\lib\\site-packages\\pip\\_internal\\cli\\base_command.py\", line 189, in _main\n",
      "    status = self.run(options, args)\n",
      "  File \"C:\\Users\\coyol\\Anaconda3\\lib\\site-packages\\pip\\_internal\\cli\\req_command.py\", line 178, in wrapper"
     ]
    },
    {
     "name": "stdout",
     "output_type": "stream",
     "text": [
      "\n",
      "  Downloading https://download.pytorch.org/whl/cu102/torch-1.10.0%2Bcu102-cp38-cp38-win_amd64.whl (1486.0 MB)\n"
     ]
    },
    {
     "name": "stderr",
     "output_type": "stream",
     "text": [
      "\n",
      "    return func(self, options, args)\n",
      "  File \"C:\\Users\\coyol\\Anaconda3\\lib\\site-packages\\pip\\_internal\\commands\\install.py\", line 316, in run\n",
      "    requirement_set = resolver.resolve(\n",
      "  File \"C:\\Users\\coyol\\Anaconda3\\lib\\site-packages\\pip\\_internal\\resolution\\resolvelib\\resolver.py\", line 121, in resolve\n",
      "    self._result = resolver.resolve(\n",
      "  File \"C:\\Users\\coyol\\Anaconda3\\lib\\site-packages\\pip\\_vendor\\resolvelib\\resolvers.py\", line 453, in resolve\n",
      "    state = resolution.resolve(requirements, max_rounds=max_rounds)\n",
      "  File \"C:\\Users\\coyol\\Anaconda3\\lib\\site-packages\\pip\\_vendor\\resolvelib\\resolvers.py\", line 318, in resolve\n",
      "    name, crit = self._merge_into_criterion(r, parent=None)\n",
      "  File \"C:\\Users\\coyol\\Anaconda3\\lib\\site-packages\\pip\\_vendor\\resolvelib\\resolvers.py\", line 173, in _merge_into_criterion\n",
      "    crit = Criterion.from_requirement(self._p, requirement, parent)\n",
      "  File \"C:\\Users\\coyol\\Anaconda3\\lib\\site-packages\\pip\\_vendor\\resolvelib\\resolvers.py\", line 82, in from_requirement\n",
      "    if not cands:\n",
      "  File \"C:\\Users\\coyol\\Anaconda3\\lib\\site-packages\\pip\\_vendor\\resolvelib\\structs.py\", line 124, in __bool__\n",
      "    return bool(self._sequence)\n",
      "  File \"C:\\Users\\coyol\\Anaconda3\\lib\\site-packages\\pip\\_internal\\resolution\\resolvelib\\found_candidates.py\", line 143, in __bool__\n",
      "    return any(self)\n",
      "  File \"C:\\Users\\coyol\\Anaconda3\\lib\\site-packages\\pip\\_internal\\resolution\\resolvelib\\found_candidates.py\", line 38, in _iter_built\n",
      "    candidate = func()\n",
      "  File \"C:\\Users\\coyol\\Anaconda3\\lib\\site-packages\\pip\\_internal\\resolution\\resolvelib\\factory.py\", line 167, in _make_candidate_from_link\n",
      "    self._link_candidate_cache[link] = LinkCandidate(\n",
      "  File \"C:\\Users\\coyol\\Anaconda3\\lib\\site-packages\\pip\\_internal\\resolution\\resolvelib\\candidates.py\", line 300, in __init__\n",
      "    super().__init__(\n",
      "  File \"C:\\Users\\coyol\\Anaconda3\\lib\\site-packages\\pip\\_internal\\resolution\\resolvelib\\candidates.py\", line 144, in __init__\n",
      "    self.dist = self._prepare()\n",
      "  File \"C:\\Users\\coyol\\Anaconda3\\lib\\site-packages\\pip\\_internal\\resolution\\resolvelib\\candidates.py\", line 226, in _prepare\n",
      "    dist = self._prepare_distribution()\n",
      "  File \"C:\\Users\\coyol\\Anaconda3\\lib\\site-packages\\pip\\_internal\\resolution\\resolvelib\\candidates.py\", line 311, in _prepare_distribution\n",
      "    return self._factory.preparer.prepare_linked_requirement(\n",
      "  File \"C:\\Users\\coyol\\Anaconda3\\lib\\site-packages\\pip\\_internal\\operations\\prepare.py\", line 457, in prepare_linked_requirement\n",
      "    return self._prepare_linked_requirement(req, parallel_builds)\n",
      "  File \"C:\\Users\\coyol\\Anaconda3\\lib\\site-packages\\pip\\_internal\\operations\\prepare.py\", line 480, in _prepare_linked_requirement\n",
      "    local_file = unpack_url(\n",
      "  File \"C:\\Users\\coyol\\Anaconda3\\lib\\site-packages\\pip\\_internal\\operations\\prepare.py\", line 230, in unpack_url\n",
      "    file = get_http_url(\n",
      "  File \"C:\\Users\\coyol\\Anaconda3\\lib\\site-packages\\pip\\_internal\\operations\\prepare.py\", line 108, in get_http_url\n",
      "    from_path, content_type = download(link, temp_dir.path)\n",
      "  File \"C:\\Users\\coyol\\Anaconda3\\lib\\site-packages\\pip\\_internal\\network\\download.py\", line 163, in __call__\n",
      "    for chunk in chunks:\n",
      "  File \"C:\\Users\\coyol\\Anaconda3\\lib\\site-packages\\pip\\_internal\\cli\\progress_bars.py\", line 159, in iter\n",
      "    for x in it:\n",
      "  File \"C:\\Users\\coyol\\Anaconda3\\lib\\site-packages\\pip\\_internal\\network\\utils.py\", line 64, in response_chunks\n",
      "    for chunk in response.raw.stream(\n",
      "  File \"C:\\Users\\coyol\\Anaconda3\\lib\\site-packages\\pip\\_vendor\\urllib3\\response.py\", line 576, in stream\n",
      "    data = self.read(amt=amt, decode_content=decode_content)\n",
      "  File \"C:\\Users\\coyol\\Anaconda3\\lib\\site-packages\\pip\\_vendor\\urllib3\\response.py\", line 541, in read\n",
      "    raise IncompleteRead(self._fp_bytes_read, self.length_remaining)\n",
      "  File \"C:\\Users\\coyol\\Anaconda3\\lib\\contextlib.py\", line 131, in __exit__\n",
      "    self.gen.throw(type, value, traceback)\n",
      "  File \"C:\\Users\\coyol\\Anaconda3\\lib\\site-packages\\pip\\_vendor\\urllib3\\response.py\", line 455, in _error_catcher\n",
      "    raise ProtocolError(\"Connection broken: %r\" % e, e)\n",
      "pip._vendor.urllib3.exceptions.ProtocolError: (\"Connection broken: ConnectionResetError(10054, 'An existing connection was forcibly closed by the remote host', None, 10054, None)\", ConnectionResetError(10054, 'An existing connection was forcibly closed by the remote host', None, 10054, None))\n"
     ]
    }
   ],
   "source": [
    "!pip install torch==1.10.0+cu102 torchvision==0.11.1+cu102 torchaudio===0.10.0+cu102 -f https://download.pytorch.org/whl/cu102/torch_stable.html"
   ]
  },
  {
   "cell_type": "code",
   "execution_count": 1,
   "metadata": {},
   "outputs": [
    {
     "name": "stdout",
     "output_type": "stream",
     "text": [
      "Requirement already satisfied: torch in c:\\users\\coyol\\anaconda3\\lib\\site-packages (1.10.0)\n",
      "Requirement already satisfied: typing-extensions in c:\\users\\coyol\\anaconda3\\lib\\site-packages (from torch) (3.10.0.2)\n",
      "Requirement already satisfied: torchvision in c:\\users\\coyol\\anaconda3\\lib\\site-packages (0.11.1)\n",
      "Requirement already satisfied: torch==1.10.0 in c:\\users\\coyol\\anaconda3\\lib\\site-packages (from torchvision) (1.10.0)\n",
      "Requirement already satisfied: numpy in c:\\users\\coyol\\anaconda3\\lib\\site-packages (from torchvision) (1.20.3)\n",
      "Requirement already satisfied: pillow!=8.3.0,>=5.3.0 in c:\\users\\coyol\\anaconda3\\lib\\site-packages (from torchvision) (8.4.0)\n",
      "Requirement already satisfied: typing-extensions in c:\\users\\coyol\\anaconda3\\lib\\site-packages (from torch==1.10.0->torchvision) (3.10.0.2)\n"
     ]
    }
   ],
   "source": [
    "!pip install torch\n",
    "!pip install torchvision"
   ]
  },
  {
   "cell_type": "code",
   "execution_count": 3,
   "metadata": {
    "id": "T4R8vmSCXfNn"
   },
   "outputs": [],
   "source": [
    "import torch \n",
    "import torch.nn as nn\n",
    "import torchvision\n",
    "\n",
    "import torchvision.transforms as transforms\n",
    "import matplotlib.pyplot as plt\n",
    "import numpy as np \n",
    "import math\n",
    "import os\n",
    "from sklearn.model_selection import train_test_split"
   ]
  },
  {
   "cell_type": "code",
   "execution_count": 4,
   "metadata": {
    "colab": {
     "base_uri": "https://localhost:8080/"
    },
    "id": "qCaHPHrZzmBF",
    "outputId": "51aef535-ec76-4ebf-d9f4-3cf5bdeed6e9"
   },
   "outputs": [],
   "source": [
    "#from google.colab import drive\n",
    "#drive.mount('/content/drive')"
   ]
  },
  {
   "cell_type": "code",
   "execution_count": 11,
   "metadata": {
    "colab": {
     "base_uri": "https://localhost:8080/"
    },
    "id": "W27oYXNvzdC1",
    "outputId": "711afa28-3299-4b8a-e8f7-f07ea18ee0ba"
   },
   "outputs": [
    {
     "name": "stdout",
     "output_type": "stream",
     "text": [
      "cpu\n",
      "14818\n",
      "4232\n",
      "2115\n"
     ]
    }
   ],
   "source": [
    "batch_size = 32 #64\n",
    "\n",
    "device = torch.device('cuda:0' if torch.cuda.is_available() else 'cpu')\n",
    "print(device)\n",
    "\n",
    "path = 'C:/Users/coyol/Desktop/utec/ciclo2/AI/Proyecto3/'\n",
    "#path = '/content/drive/Shareddrives/MachineLearning/CovidData/'\n",
    "\n",
    "train_set = torchvision.datasets.ImageFolder(root=path+'train', transform = transforms.ToTensor())\n",
    "val_set = torchvision.datasets.ImageFolder(root=path+'valid', transform = transforms.ToTensor())\n",
    "test_set = torchvision.datasets.ImageFolder(root=path+'test', transform = transforms.ToTensor())\n",
    "\n",
    "train_loader = torch.utils.data.DataLoader(dataset=train_set, batch_size=batch_size, shuffle=True)\n",
    "val_loader = torch.utils.data.DataLoader(dataset=val_set, batch_size=batch_size, shuffle=True)\n",
    "test_loader = torch.utils.data.DataLoader(dataset=test_set, batch_size=batch_size, shuffle=True)\n",
    "\n",
    "print(len(train_set))\n",
    "print(len(val_set))\n",
    "print(len(test_set))"
   ]
  },
  {
   "cell_type": "code",
   "execution_count": 7,
   "metadata": {
    "id": "PgF_3RNgTOJP"
   },
   "outputs": [],
   "source": [
    "num_classes = 4\n",
    "learning_rate =  0.001\n",
    "num_epochs = 20\n",
    "\n",
    "class CNN3(nn.Module):\n",
    "    def __init__(self, num_classes=4):\n",
    "        super(CNN3, self).__init__()\n",
    "        self.layer1 = nn.Sequential(\n",
    "            nn.Conv2d(in_channels=3, out_channels=16, kernel_size=3, stride=1, padding=2), #(299+2*2-3)/1+1 = 301\n",
    "            nn.BatchNorm2d(16),\n",
    "            nn.Dropout2d(0.5),\n",
    "            nn.ReLU(),\n",
    "            nn.MaxPool2d(kernel_size=2, stride=2)) #301/2=150.5 = 150\n",
    "        self.layer2 = nn.Sequential(\n",
    "            nn.Conv2d(16, 32, kernel_size=5, stride=1, padding=2), #(150+2*2-5)/1+1 = 150\n",
    "            nn.BatchNorm2d(32),\n",
    "            nn.Dropout2d(0.5),\n",
    "            nn.ReLU(),\n",
    "            nn.MaxPool2d(kernel_size=2, stride=2)) #150/2 = 75\n",
    "        self.layer3 = nn.Sequential(\n",
    "            nn.Conv2d(32, 64, kernel_size=5, stride=1, padding=2), #(75+2*2-5)/1+1 = 75\n",
    "            nn.BatchNorm2d(64),\n",
    "            nn.Dropout2d(0.5),\n",
    "            nn.ReLU(),\n",
    "            nn.MaxPool2d(kernel_size=2, stride=2)) #75/2 = 37\n",
    "        self.fc = nn.Linear(37*37*64, num_classes) #Aplica una transformación lineal: y=xA.T + b\n",
    "        \n",
    "    def forward(self, x):\n",
    "        out = self.layer1(x)\n",
    "        out = self.layer2(out)\n",
    "        out = self.layer3(out)\n",
    "        out = out.reshape(out.size(0), -1)\n",
    "        out = self.fc(out)\n",
    "        return out"
   ]
  },
  {
   "cell_type": "code",
   "execution_count": 13,
   "metadata": {
    "colab": {
     "base_uri": "https://localhost:8080/"
    },
    "id": "NxgKAJ40hd8J",
    "outputId": "a7e34b25-1032-4bab-b36a-2069f52bc3d0"
   },
   "outputs": [
    {
     "name": "stdout",
     "output_type": "stream",
     "text": [
      "[torch.Size([4, 87616]), torch.Size([4])]\n"
     ]
    },
    {
     "data": {
      "text/plain": [
       "Parameter containing:\n",
       "tensor([[ 0.0018,  0.0032, -0.0008,  ...,  0.0021,  0.0009,  0.0015],\n",
       "        [ 0.0005, -0.0012,  0.0012,  ..., -0.0021,  0.0012, -0.0026],\n",
       "        [ 0.0022, -0.0029,  0.0011,  ..., -0.0008,  0.0018, -0.0022],\n",
       "        [ 0.0032,  0.0005, -0.0032,  ..., -0.0007,  0.0020, -0.0026]],\n",
       "       requires_grad=True)"
      ]
     },
     "execution_count": 13,
     "metadata": {},
     "output_type": "execute_result"
    }
   ],
   "source": [
    "model         = CNN3(num_classes).to(device)\n",
    "loss_fn       = nn.CrossEntropyLoss()\n",
    "optimizer     = torch.optim.Adam(model.parameters(), lr = learning_rate)\n",
    "\n",
    "print([ e.shape  for e in model.fc.parameters()])\n",
    "\n",
    "model.fc.weight"
   ]
  },
  {
   "cell_type": "code",
   "execution_count": 12,
   "metadata": {},
   "outputs": [
    {
     "data": {
      "text/plain": [
       "464"
      ]
     },
     "execution_count": 12,
     "metadata": {},
     "output_type": "execute_result"
    }
   ],
   "source": [
    "len(train_loader)"
   ]
  },
  {
   "cell_type": "code",
   "execution_count": 9,
   "metadata": {
    "id": "D3P8tMnHg4qj"
   },
   "outputs": [],
   "source": [
    "def checkStop(model, device, val_loader, loss_fn):\n",
    "    # Settings\n",
    "    model.eval()\n",
    "    perdida = 0\n",
    "\n",
    "    # Test validation data\n",
    "    with torch.no_grad():\n",
    "        for i, (images, labels) in enumerate(val_loader):\n",
    "            images, labels = images.to(device), labels.to(device)\n",
    "            outputs = model(images)\n",
    "            loss = loss_fn(outputs, labels)\n",
    "            perdida += loss.item()\n",
    "\n",
    "    return perdida / len(val_loader)\n",
    "\n",
    "def train(model, optimizer, loss_fn, num_epochs,train_loader,val_loader, numChecks):\n",
    "  #loss_vals = []\n",
    "  ultimoError = 10000\n",
    "\n",
    "  # train the model\n",
    "  total_step = len(train_loader)  # el train loader es el motor que se encarga de sacar las imagenes del train_set\n",
    "\n",
    "  list_loss= []\n",
    "  list_time = []\n",
    "  #list_loss_val = []\n",
    "  \n",
    "  j=0\n",
    "\n",
    "  for epoch in range(num_epochs):\n",
    "    k=0\n",
    "    for i, (images, labels) in enumerate(train_loader):\n",
    "    #for i in range(50):\n",
    "\n",
    "      #images = train_loader[i][0].to(device)\n",
    "      #labels = train_loader[i][1].to(device)\n",
    "\n",
    "      images = images.to(device)\n",
    "      labels = labels.to(device)\n",
    "      \n",
    "      # forward \n",
    "      output = model(images)\n",
    "      loss   = loss_fn(output, labels)\n",
    "\n",
    "      # change the params\n",
    "      optimizer.zero_grad()\n",
    "      loss.backward()\n",
    "      optimizer.step()\n",
    "\n",
    "      list_loss.append(loss.item())\n",
    "      list_time.append(j)\n",
    "      j+=1\n",
    "\n",
    "              \n",
    "      if (i+1) % 100 == 0:\n",
    "              print ('Epoch [{}/{}], Step [{}/{}], Loss: {:.4f}' \n",
    "                    .format(epoch+1, num_epochs, i+1, total_step, loss.item()))\n",
    "      k+=1\n",
    "      #if (k == 1000):\n",
    "      #  break \n",
    "\n",
    "    # Se ejecuta despues de cada epoch\n",
    "    # Se analiza el error sobre el conjunto de validacion - Eartly stopping\n",
    "    validError = checkStop(model, device, val_loader, loss_fn)\n",
    "    print('Error validacion:', validError)\n",
    "\n",
    "    if validError > ultimoError:\n",
    "        counter += 1\n",
    "        # En caso no se mejore en n veces el error, se detiene el algoritmo\n",
    "        if counter >= numChecks:\n",
    "            return list_loss\n",
    "    else:\n",
    "        # Se vuelve a contar\n",
    "        counter = 0\n",
    "\n",
    "        # error actual es menor que el ultimo error\n",
    "        ultimoError = validError\n",
    "    #print(\"LastError: \",ultimoError)\n",
    "  print('Finished Training Trainset')\n",
    "  return list_loss\n"
   ]
  },
  {
   "cell_type": "code",
   "execution_count": null,
   "metadata": {
    "id": "SZdOzO0NuR4f",
    "scrolled": false
   },
   "outputs": [
    {
     "name": "stdout",
     "output_type": "stream",
     "text": [
      "Epoch [1/20], Step [100/464], Loss: 8.4278\n",
      "Epoch [1/20], Step [200/464], Loss: 4.8450\n",
      "Epoch [1/20], Step [300/464], Loss: 6.4378\n",
      "Epoch [1/20], Step [400/464], Loss: 2.3327\n",
      "Error validacion: 2.1165688656326522\n",
      "Epoch [2/20], Step [100/464], Loss: 0.7712\n",
      "Epoch [2/20], Step [200/464], Loss: 0.7496\n",
      "Epoch [2/20], Step [300/464], Loss: 0.5754\n",
      "Epoch [2/20], Step [400/464], Loss: 0.5644\n",
      "Error validacion: 0.5952580096130085\n",
      "Epoch [3/20], Step [100/464], Loss: 0.6474\n",
      "Epoch [3/20], Step [200/464], Loss: 0.5411\n",
      "Epoch [3/20], Step [300/464], Loss: 0.6453\n",
      "Epoch [3/20], Step [400/464], Loss: 0.3876\n",
      "Error validacion: 0.6374189466013944\n",
      "Epoch [4/20], Step [100/464], Loss: 0.6897\n",
      "Epoch [4/20], Step [200/464], Loss: 0.5406\n",
      "Epoch [4/20], Step [300/464], Loss: 0.6501\n",
      "Epoch [4/20], Step [400/464], Loss: 0.5481\n",
      "Error validacion: 0.5285625870066478\n",
      "Epoch [5/20], Step [100/464], Loss: 0.6588\n",
      "Epoch [5/20], Step [200/464], Loss: 0.5519\n",
      "Epoch [5/20], Step [300/464], Loss: 0.3208\n",
      "Epoch [5/20], Step [400/464], Loss: 0.4238\n",
      "Error validacion: 0.547730404519497\n",
      "Epoch [6/20], Step [100/464], Loss: 0.3481\n",
      "Epoch [6/20], Step [200/464], Loss: 0.3447\n",
      "Epoch [6/20], Step [300/464], Loss: 0.7061\n",
      "Epoch [6/20], Step [400/464], Loss: 0.2625\n",
      "Error validacion: 0.5163565973254075\n",
      "Epoch [7/20], Step [100/464], Loss: 0.3922\n",
      "Epoch [7/20], Step [200/464], Loss: 0.4365\n",
      "Epoch [7/20], Step [300/464], Loss: 0.2497\n",
      "Epoch [7/20], Step [400/464], Loss: 0.4437\n",
      "Error validacion: 0.42955628687277775\n",
      "Epoch [8/20], Step [100/464], Loss: 0.2874\n",
      "Epoch [8/20], Step [200/464], Loss: 0.5574\n",
      "Epoch [8/20], Step [300/464], Loss: 0.2515\n",
      "Epoch [8/20], Step [400/464], Loss: 0.3138\n",
      "Error validacion: 0.415751354138654\n",
      "Epoch [9/20], Step [100/464], Loss: 0.3340\n",
      "Epoch [9/20], Step [200/464], Loss: 0.4391\n",
      "Epoch [9/20], Step [300/464], Loss: 0.2734\n",
      "Epoch [9/20], Step [400/464], Loss: 0.1525\n",
      "Error validacion: 0.4091187725053694\n",
      "Epoch [10/20], Step [100/464], Loss: 0.1263\n",
      "Epoch [10/20], Step [200/464], Loss: 0.3914\n",
      "Epoch [10/20], Step [300/464], Loss: 0.2655\n",
      "Epoch [10/20], Step [400/464], Loss: 0.3098\n",
      "Error validacion: 0.39753531558173044\n",
      "Epoch [11/20], Step [100/464], Loss: 0.2926\n",
      "Epoch [11/20], Step [200/464], Loss: 0.2405\n",
      "Epoch [11/20], Step [300/464], Loss: 0.2994\n",
      "Epoch [11/20], Step [400/464], Loss: 0.1994\n",
      "Error validacion: 0.35068480754481224\n",
      "Epoch [12/20], Step [100/464], Loss: 0.2214\n",
      "Epoch [12/20], Step [200/464], Loss: 0.2739\n"
     ]
    }
   ],
   "source": [
    "numChecks = 2\n",
    "train_loss = train(model,optimizer,loss_fn,num_epochs,train_loader,val_loader,numChecks)\n"
   ]
  },
  {
   "cell_type": "code",
   "execution_count": 15,
   "metadata": {
    "colab": {
     "base_uri": "https://localhost:8080/",
     "height": 298
    },
    "collapsed": true,
    "id": "UIgfkY1iLk8C",
    "outputId": "389ccaf4-658f-4451-f0a3-686d5dc18a3e"
   },
   "outputs": [
    {
     "data": {
      "text/plain": [
       "Text(0.5, 1.0, 'Training Error: Dropout en todas las Capas')"
      ]
     },
     "execution_count": 15,
     "metadata": {},
     "output_type": "execute_result"
    },
    {
     "data": {
      "image/png": "[encoded data removed]",
      "text/plain": [
       "<Figure size 432x288 with 1 Axes>"
      ]
     },
     "metadata": {
      "needs_background": "light"
     },
     "output_type": "display_data"
    }
   ],
   "source": [
    "plt.plot(train_loss)\n",
    "plt.title(\"Training Error: Dropout en todas las Capas\")"
   ]
  },
  {
   "cell_type": "code",
   "execution_count": 16,
   "metadata": {
    "colab": {
     "base_uri": "https://localhost:8080/"
    },
    "id": "mpsjztIY2DSj",
    "outputId": "27154c4e-904f-4214-87fa-b10092ae3da7"
   },
   "outputs": [
    {
     "name": "stdout",
     "output_type": "stream",
     "text": [
      "Validation Accuracy of the model: 30.718954248366014 %\n"
     ]
    }
   ],
   "source": [
    "#Precision con el set de validación (20%).\n",
    "with torch.no_grad():\n",
    "      correct = 0\n",
    "      total = 0\n",
    "      k=0\n",
    "      for images, labels in val_loader:\n",
    "          images, labels = images.to(device), labels.to(device)\n",
    "          outputs = model(images)\n",
    "          _, predicted = torch.max(outputs.data, 1)\n",
    "          total += labels.size(0)\n",
    "          correct += (predicted == labels).sum().item()\n",
    "          #k+=1\n",
    "          #if (k == 100):\n",
    "          #  break\n",
    "      print('Validation Accuracy of the model: {} %'.format(100 * correct / total))"
   ]
  },
  {
   "cell_type": "code",
   "execution_count": 17,
   "metadata": {
    "colab": {
     "base_uri": "https://localhost:8080/"
    },
    "id": "0WmRgNcWKQjb",
    "outputId": "0c699188-0c7a-43f7-ee84-4732a311ae2c"
   },
   "outputs": [
    {
     "name": "stdout",
     "output_type": "stream",
     "text": [
      "Test Accuracy of the model: 30.864197530864196 %\n"
     ]
    }
   ],
   "source": [
    "#Precision con el set de test (10%).\n",
    "with torch.no_grad():\n",
    "      correct = 0\n",
    "      total = 0\n",
    "      k=0\n",
    "      for images, labels in test_loader:\n",
    "          images, labels = images.to(device), labels.to(device)\n",
    "          outputs = model(images)\n",
    "          _, predicted = torch.max(outputs.data, 1)\n",
    "          total += labels.size(0)\n",
    "          correct += (predicted == labels).sum().item()\n",
    "          #k+=1\n",
    "          #if (k == 100):\n",
    "          #  break\n",
    "      print('Test Accuracy of the model: {} %'.format(100 * correct / total))"
   ]
  },
  {
   "cell_type": "code",
   "execution_count": null,
   "metadata": {
    "id": "3wuguPd-KQjb"
   },
   "outputs": [],
   "source": [
    " "
   ]
  }
 ],
 "metadata": {
  "accelerator": "GPU",
  "colab": {
   "collapsed_sections": [],
   "name": "ML_CNN_Proyecto3_Full_Dropout.ipynb",
   "provenance": []
  },
  "kernelspec": {
   "display_name": "Python 3 (ipykernel)",
   "language": "python",
   "name": "python3"
  },
  "language_info": {
   "codemirror_mode": {
    "name": "ipython",
    "version": 3
   },
   "file_extension": ".py",
   "mimetype": "text/x-python",
   "name": "python",
   "nbconvert_exporter": "python",
   "pygments_lexer": "ipython3",
   "version": "3.8.8"
  }
 },
 "nbformat": 4,
 "nbformat_minor": 1
}
